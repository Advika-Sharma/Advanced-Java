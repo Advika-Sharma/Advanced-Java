{
  "nbformat": 4,
  "nbformat_minor": 0,
  "metadata": {
    "colab": {
      "name": "ee-api-colab-setup.ipynb",
      "provenance": [],
      "toc_visible": true,
      "include_colab_link": true
    },
    "kernelspec": {
      "name": "python3",
      "display_name": "Python 3"
    }
  },
  "cells": [
    {
      "cell_type": "markdown",
      "metadata": {
        "id": "view-in-github",
        "colab_type": "text"
      },
      "source": [
        "<a href=\"https://colab.research.google.com/github/Advika-Sharma/Advanced-Java/blob/main/guides/linked/ee-api-colab-setup.ipynb\" target=\"_parent\"><img src=\"https://colab.research.google.com/assets/colab-badge.svg\" alt=\"Open In Colab\"/></a>"
      ]
    },
    {
      "cell_type": "code",
      "metadata": {
        "id": "krsLgVBYZw_A"
      },
      "source": [
        "#@title Copyright 2019 Google LLC. { display-mode: \"form\" }\n",
        "# Licensed under the Apache License, Version 2.0 (the \"License\");\n",
        "# you may not use this file except in compliance with the License.\n",
        "# You may obtain a copy of the License at\n",
        "#\n",
        "# https://www.apache.org/licenses/LICENSE-2.0\n",
        "#\n",
        "# Unless required by applicable law or agreed to in writing, software\n",
        "# distributed under the License is distributed on an \"AS IS\" BASIS,\n",
        "# WITHOUT WARRANTIES OR CONDITIONS OF ANY KIND, either express or implied.\n",
        "# See the License for the specific language governing permissions and\n",
        "# limitations under the License."
      ],
      "execution_count": 77,
      "outputs": []
    },
    {
      "cell_type": "markdown",
      "metadata": {
        "id": "aV1xZ1CPi3Nw"
      },
      "source": [
        "<table class=\"ee-notebook-buttons\" align=\"left\"><td>\n",
        "<a target=\"_blank\"  href=\"http://colab.research.google.com/github/google/earthengine-community/blob/master/guides/linked/ee-api-colab-setup.ipynb\">\n",
        "    <img src=\"https://www.tensorflow.org/images/colab_logo_32px.png\" /> Run in Google Colab</a>\n",
        "</td><td>\n",
        "<a target=\"_blank\"  href=\"https://github.com/google/earthengine-community/blob/master/guides/linked/ee-api-colab-setup.ipynb\"><img width=32px src=\"https://www.tensorflow.org/images/GitHub-Mark-32px.png\" /> View source on GitHub</a></td></table>"
      ]
    },
    {
      "cell_type": "markdown",
      "metadata": {
        "id": "LAZiVi13zTE7"
      },
      "source": [
        "# Earth Engine Python API Colab Setup\n",
        "\n",
        "This notebook demonstrates how to setup the Earth Engine Python API in Colab and provides several examples of how to print and visualize Earth Engine processed data."
      ]
    },
    {
      "cell_type": "markdown",
      "metadata": {
        "id": "a69CuP5Q6OI7"
      },
      "source": [
        "## Import API and get credentials\n",
        "\n",
        "The Earth Engine API is installed by default in Google Colaboratory so requires only importing and authenticating. These steps must be completed for each new Colab session, if you restart your Colab kernel, or if your Colab virtual machine is recycled due to inactivity."
      ]
    },
    {
      "cell_type": "markdown",
      "metadata": {
        "id": "SNh-QBc36Mvk"
      },
      "source": [
        "### Import the API\n",
        "\n",
        "Run the following cell to import the API into your session."
      ]
    },
    {
      "cell_type": "code",
      "metadata": {
        "id": "65RChERMzQHZ"
      },
      "source": [
        "import ee"
      ],
      "execution_count": 78,
      "outputs": []
    },
    {
      "cell_type": "markdown",
      "metadata": {
        "id": "s-dN42MTzg-w"
      },
      "source": [
        "### Authenticate and initialize\n",
        "\n",
        "Run the `ee.Authenticate` function to authenticate your access to Earth Engine servers and `ee.Initialize` to initialize it. Upon running the following cell you'll be asked to grant Earth Engine access to your Google account. Follow the instructions printed to the cell."
      ]
    },
    {
      "cell_type": "code",
      "metadata": {
        "id": "NMp9Ei9b0XXL"
      },
      "source": [
        "ee.Authenticate()\n",
        "ee.Initialize(project='pose-at-sea')  # ✅ Correct"
      ],
      "execution_count": 79,
      "outputs": []
    },
    {
      "cell_type": "markdown",
      "metadata": {
        "id": "8I_Fr0L5AFmu"
      },
      "source": [
        "## Test the API\n",
        "\n",
        "Test the API by printing the elevation of Mount Everest."
      ]
    },
    {
      "cell_type": "markdown",
      "metadata": {
        "id": "fDLAqiNWeD6t"
      },
      "source": [
        "## Map visualization\n",
        "\n",
        "`ee.Image` objects can be displayed to notebook output cells. The following two\n",
        "examples demonstrate displaying a static image and an interactive map.\n"
      ]
    },
    {
      "cell_type": "markdown",
      "metadata": {
        "id": "45BfeVygwmKm"
      },
      "source": [
        "### Static image\n",
        "\n",
        "The `IPython.display` module contains the `Image` function, which can display\n",
        "the results of a URL representing an image generated from a call to the Earth\n",
        "Engine `getThumbUrl` function. The following cell will display a thumbnail\n",
        "of the global elevation model."
      ]
    },
    {
      "cell_type": "markdown",
      "metadata": {
        "id": "Ljo5dbLkfmVm"
      },
      "source": [
        "### Interactive map\n",
        "\n",
        "The [geemap](https://github.com/gee-community/geemap)\n",
        "library can be used to display `ee.Image` objects on an interactive\n",
        "[ipyleaflet](https://github.com/jupyter-widgets/ipyleaflet) map.\n",
        "\n",
        "The following cell provides an example of using the `geemap.Map` object to\n",
        "display an elevation model."
      ]
    },
    {
      "cell_type": "markdown",
      "metadata": {
        "id": "CYfinjFhg0HN"
      },
      "source": [
        "## Chart visualization\n",
        "\n",
        "Some Earth Engine functions produce tabular data that can be plotted by\n",
        "data visualization packages such as `matplotlib`. The following example\n",
        "demonstrates the display of tabular data from Earth Engine as a scatter\n",
        "plot. See [Charting in Colaboratory](https://colab.sandbox.google.com/notebooks/charts.ipynb)\n",
        "for more information."
      ]
    },
    {
      "cell_type": "code",
      "metadata": {
        "id": "tRPULejJhBSl",
        "outputId": "be92600e-aab1-44f6-b00b-5da591dc0298",
        "colab": {
          "base_uri": "https://localhost:8080/"
        }
      },
      "source": [
        "roi = ee.Geometry.Rectangle([\n",
        "    -90.9, 28.4,   # lower-left corner (longitude, latitude)\n",
        "    -87.9, 29.8    # upper-right corner\n",
        "])\n",
        "\n",
        "sentinel1 = (\n",
        "    ee.ImageCollection('COPERNICUS/S1_GRD')\n",
        "    .filterBounds(roi)\n",
        "    .filterDate('2010-04-20', '2010-04-25')\n",
        "    .filter(ee.Filter.eq('instrumentMode', 'IW'))\n",
        "    .filter(ee.Filter.listContains('transmitterReceiverPolarisation', 'VV'))\n",
        ")\n",
        "\n",
        "print(\"✅ Filtered image count:\", sentinel1.size().getInfo())\n"
      ],
      "execution_count": 80,
      "outputs": [
        {
          "output_type": "stream",
          "name": "stdout",
          "text": [
            "✅ Filtered image count: 0\n"
          ]
        }
      ]
    },
    {
      "cell_type": "code",
      "source": [
        "# Create median image from filtered collection\n",
        "median_image = sentinel1.median().clip(roi)\n"
      ],
      "metadata": {
        "id": "KPQPdCjHK1cN"
      },
      "execution_count": 81,
      "outputs": []
    },
    {
      "cell_type": "code",
      "source": [
        "# Define oil spill area points or polygons (label = 1)\n",
        "oil_points = ee.FeatureCollection([\n",
        "    ee.Feature(ee.Geometry.Point([-89.7, 28.8]), {'class': 1}),\n",
        "    ee.Feature(ee.Geometry.Point([-89.6, 28.85]), {'class': 1}),\n",
        "    ee.Feature(ee.Geometry.Point([-89.65, 28.9]), {'class': 1})\n",
        "])\n",
        "\n",
        "# Define non-oil water area points (label = 0)\n",
        "non_oil_points = ee.FeatureCollection([\n",
        "    ee.Feature(ee.Geometry.Point([-89.1, 29.2]), {'class': 0}),\n",
        "    ee.Feature(ee.Geometry.Point([-88.95, 29.25]), {'class': 0}),\n",
        "    ee.Feature(ee.Geometry.Point([-88.8, 29.0]), {'class': 0})\n",
        "])\n",
        "\n",
        "# Combine both classes\n",
        "training_points = oil_points.merge(non_oil_points)\n"
      ],
      "metadata": {
        "id": "wLbDMNLsnv3V"
      },
      "execution_count": 82,
      "outputs": []
    },
    {
      "cell_type": "code",
      "source": [
        "import folium\n",
        "\n",
        "# Define Deepwater Horizon ROI\n",
        "roi = ee.Geometry.Rectangle([-90.9, 28.4, -87.9, 29.8])\n",
        "\n",
        "# Load Sentinel-1 VV band\n",
        "s1_vv = ee.ImageCollection('COPERNICUS/S1_GRD') \\\n",
        "    .filterDate('2021-01-01', '2021-01-15') \\\n",
        "    .filterBounds(roi) \\\n",
        "    .filter(ee.Filter.eq('instrumentMode', 'IW')) \\\n",
        "    .filter(ee.Filter.listContains('transmitterReceiverPolarisation', 'VV')) \\\n",
        "    .select('VV')\n",
        "\n",
        "# Create a median image\n",
        "median_image = s1_vv.median().clip(roi)\n",
        "\n",
        "# Compute stats for dynamic visualization\n",
        "stats = median_image.reduceRegion(\n",
        "    reducer=ee.Reducer.percentile([2, 98]),\n",
        "    geometry=roi,\n",
        "    scale=30,\n",
        "    maxPixels=1e9\n",
        ").getInfo()\n",
        "\n",
        "print(\"Dynamic VV percentile stats:\", stats)\n",
        "\n",
        "# Use dynamic range for visualization\n",
        "vis_params = {\n",
        "    'min': stats['VV_p2'],\n",
        "    'max': stats['VV_p98'],\n",
        "    'palette': ['black', 'purple', 'blue', 'cyan', 'white']\n",
        "}\n",
        "\n",
        "# Folium helper\n",
        "def add_ee_layer(self, ee_image_object, vis_params, name):\n",
        "    map_id_dict = ee.Image(ee_image_object).getMapId(vis_params)\n",
        "    folium.raster_layers.TileLayer(\n",
        "        tiles=map_id_dict['tile_fetcher'].url_format,\n",
        "        attr=\"Map Data © Google Earth Engine\",\n",
        "        name=name,\n",
        "        overlay=True,\n",
        "        control=True\n",
        "    ).add_to(self)\n",
        "\n",
        "# Patch folium\n",
        "folium.Map.add_ee_layer = add_ee_layer\n",
        "\n",
        "# Create folium map\n",
        "m = folium.Map(location=[29.1, -89.4], zoom_start=7)\n",
        "\n",
        "# Add image layer\n",
        "m.add_ee_layer(median_image, vis_params, 'Sentinel-1 VV Dynamic')\n",
        "\n",
        "# Add bounding box rectangle\n",
        "folium.Rectangle(\n",
        "    bounds=[[28.4, -90.9], [29.8, -87.9]],\n",
        "    color='red',\n",
        "    fill=False,\n",
        "    tooltip='Deepwater Horizon ROI'\n",
        ").add_to(m)\n",
        "\n",
        "m.add_child(folium.LayerControl())\n",
        "m\n",
        "\n"
      ],
      "metadata": {
        "id": "MEB9giL6K3Gv",
        "outputId": "3bdacc99-b315-478a-dbe4-e20d653e2021",
        "colab": {
          "base_uri": "https://localhost:8080/",
          "height": 548
        }
      },
      "execution_count": 83,
      "outputs": [
        {
          "output_type": "stream",
          "name": "stdout",
          "text": [
            "Dynamic VV percentile stats: {'VV_p2': -22.23201172740473, 'VV_p98': -7.764350295593402}\n"
          ]
        },
        {
          "output_type": "execute_result",
          "data": {
            "text/plain": [
              "<folium.folium.Map at 0x7a2e032d7490>"
            ],
            "text/html": [
              "<div style=\"width:100%;\"><div style=\"position:relative;width:100%;height:0;padding-bottom:60%;\"><span style=\"color:#565656\">Make this Notebook Trusted to load map: File -> Trust Notebook</span><iframe srcdoc=\"&lt;!DOCTYPE html&gt;\n",
              "&lt;html&gt;\n",
              "&lt;head&gt;\n",
              "    \n",
              "    &lt;meta http-equiv=&quot;content-type&quot; content=&quot;text/html; charset=UTF-8&quot; /&gt;\n",
              "    &lt;script src=&quot;https://cdn.jsdelivr.net/npm/leaflet@1.9.3/dist/leaflet.js&quot;&gt;&lt;/script&gt;\n",
              "    &lt;script src=&quot;https://code.jquery.com/jquery-3.7.1.min.js&quot;&gt;&lt;/script&gt;\n",
              "    &lt;script src=&quot;https://cdn.jsdelivr.net/npm/bootstrap@5.2.2/dist/js/bootstrap.bundle.min.js&quot;&gt;&lt;/script&gt;\n",
              "    &lt;script src=&quot;https://cdnjs.cloudflare.com/ajax/libs/Leaflet.awesome-markers/2.0.2/leaflet.awesome-markers.js&quot;&gt;&lt;/script&gt;\n",
              "    &lt;link rel=&quot;stylesheet&quot; href=&quot;https://cdn.jsdelivr.net/npm/leaflet@1.9.3/dist/leaflet.css&quot;/&gt;\n",
              "    &lt;link rel=&quot;stylesheet&quot; href=&quot;https://cdn.jsdelivr.net/npm/bootstrap@5.2.2/dist/css/bootstrap.min.css&quot;/&gt;\n",
              "    &lt;link rel=&quot;stylesheet&quot; href=&quot;https://netdna.bootstrapcdn.com/bootstrap/3.0.0/css/bootstrap-glyphicons.css&quot;/&gt;\n",
              "    &lt;link rel=&quot;stylesheet&quot; href=&quot;https://cdn.jsdelivr.net/npm/@fortawesome/fontawesome-free@6.2.0/css/all.min.css&quot;/&gt;\n",
              "    &lt;link rel=&quot;stylesheet&quot; href=&quot;https://cdnjs.cloudflare.com/ajax/libs/Leaflet.awesome-markers/2.0.2/leaflet.awesome-markers.css&quot;/&gt;\n",
              "    &lt;link rel=&quot;stylesheet&quot; href=&quot;https://cdn.jsdelivr.net/gh/python-visualization/folium/folium/templates/leaflet.awesome.rotate.min.css&quot;/&gt;\n",
              "    \n",
              "            &lt;meta name=&quot;viewport&quot; content=&quot;width=device-width,\n",
              "                initial-scale=1.0, maximum-scale=1.0, user-scalable=no&quot; /&gt;\n",
              "            &lt;style&gt;\n",
              "                #map_23783d8bc550685b7819e73ed084272a {\n",
              "                    position: relative;\n",
              "                    width: 100.0%;\n",
              "                    height: 100.0%;\n",
              "                    left: 0.0%;\n",
              "                    top: 0.0%;\n",
              "                }\n",
              "                .leaflet-container { font-size: 1rem; }\n",
              "            &lt;/style&gt;\n",
              "\n",
              "            &lt;style&gt;html, body {\n",
              "                width: 100%;\n",
              "                height: 100%;\n",
              "                margin: 0;\n",
              "                padding: 0;\n",
              "            }\n",
              "            &lt;/style&gt;\n",
              "\n",
              "            &lt;style&gt;#map {\n",
              "                position:absolute;\n",
              "                top:0;\n",
              "                bottom:0;\n",
              "                right:0;\n",
              "                left:0;\n",
              "                }\n",
              "            &lt;/style&gt;\n",
              "\n",
              "            &lt;script&gt;\n",
              "                L_NO_TOUCH = false;\n",
              "                L_DISABLE_3D = false;\n",
              "            &lt;/script&gt;\n",
              "\n",
              "        \n",
              "&lt;/head&gt;\n",
              "&lt;body&gt;\n",
              "    \n",
              "    \n",
              "            &lt;div class=&quot;folium-map&quot; id=&quot;map_23783d8bc550685b7819e73ed084272a&quot; &gt;&lt;/div&gt;\n",
              "        \n",
              "&lt;/body&gt;\n",
              "&lt;script&gt;\n",
              "    \n",
              "    \n",
              "            var map_23783d8bc550685b7819e73ed084272a = L.map(\n",
              "                &quot;map_23783d8bc550685b7819e73ed084272a&quot;,\n",
              "                {\n",
              "                    center: [29.1, -89.4],\n",
              "                    crs: L.CRS.EPSG3857,\n",
              "                    ...{\n",
              "  &quot;zoom&quot;: 7,\n",
              "  &quot;zoomControl&quot;: true,\n",
              "  &quot;preferCanvas&quot;: false,\n",
              "}\n",
              "\n",
              "                }\n",
              "            );\n",
              "\n",
              "            \n",
              "\n",
              "        \n",
              "    \n",
              "            var tile_layer_7cb81b4c43a2a8a3d1652b16ee114399 = L.tileLayer(\n",
              "                &quot;https://tile.openstreetmap.org/{z}/{x}/{y}.png&quot;,\n",
              "                {\n",
              "  &quot;minZoom&quot;: 0,\n",
              "  &quot;maxZoom&quot;: 19,\n",
              "  &quot;maxNativeZoom&quot;: 19,\n",
              "  &quot;noWrap&quot;: false,\n",
              "  &quot;attribution&quot;: &quot;\\u0026copy; \\u003ca href=\\&quot;https://www.openstreetmap.org/copyright\\&quot;\\u003eOpenStreetMap\\u003c/a\\u003e contributors&quot;,\n",
              "  &quot;subdomains&quot;: &quot;abc&quot;,\n",
              "  &quot;detectRetina&quot;: false,\n",
              "  &quot;tms&quot;: false,\n",
              "  &quot;opacity&quot;: 1,\n",
              "}\n",
              "\n",
              "            );\n",
              "        \n",
              "    \n",
              "            tile_layer_7cb81b4c43a2a8a3d1652b16ee114399.addTo(map_23783d8bc550685b7819e73ed084272a);\n",
              "        \n",
              "    \n",
              "            var tile_layer_87e82c81483a63cc33630a0658cb45f6 = L.tileLayer(\n",
              "                &quot;https://earthengine.googleapis.com/v1/projects/pose-at-sea/maps/d686cb0af03940f57ba385fcae73c34d-ad68608f3f5f492ffa12a24afe450700/tiles/{z}/{x}/{y}&quot;,\n",
              "                {\n",
              "  &quot;minZoom&quot;: 0,\n",
              "  &quot;maxZoom&quot;: 18,\n",
              "  &quot;maxNativeZoom&quot;: 18,\n",
              "  &quot;noWrap&quot;: false,\n",
              "  &quot;attribution&quot;: &quot;Map Data \\u00a9 Google Earth Engine&quot;,\n",
              "  &quot;subdomains&quot;: &quot;abc&quot;,\n",
              "  &quot;detectRetina&quot;: false,\n",
              "  &quot;tms&quot;: false,\n",
              "  &quot;opacity&quot;: 1,\n",
              "}\n",
              "\n",
              "            );\n",
              "        \n",
              "    \n",
              "            tile_layer_87e82c81483a63cc33630a0658cb45f6.addTo(map_23783d8bc550685b7819e73ed084272a);\n",
              "        \n",
              "    \n",
              "            var rectangle_dab7451f07fd3de1239c459a336c7f5a = L.rectangle(\n",
              "                [[28.4, -90.9], [29.8, -87.9]],\n",
              "                {&quot;bubblingMouseEvents&quot;: true, &quot;color&quot;: &quot;red&quot;, &quot;dashArray&quot;: null, &quot;dashOffset&quot;: null, &quot;fill&quot;: false, &quot;fillColor&quot;: &quot;red&quot;, &quot;fillOpacity&quot;: 0.2, &quot;fillRule&quot;: &quot;evenodd&quot;, &quot;lineCap&quot;: &quot;round&quot;, &quot;lineJoin&quot;: &quot;round&quot;, &quot;noClip&quot;: false, &quot;opacity&quot;: 1.0, &quot;smoothFactor&quot;: 1.0, &quot;stroke&quot;: true, &quot;weight&quot;: 3}\n",
              "            ).addTo(map_23783d8bc550685b7819e73ed084272a);\n",
              "        \n",
              "    \n",
              "            rectangle_dab7451f07fd3de1239c459a336c7f5a.bindTooltip(\n",
              "                `&lt;div&gt;\n",
              "                     Deepwater Horizon ROI\n",
              "                 &lt;/div&gt;`,\n",
              "                {\n",
              "  &quot;sticky&quot;: true,\n",
              "}\n",
              "            );\n",
              "        \n",
              "    \n",
              "            var layer_control_183c6594ffb8b4fa59977da03f80febd_layers = {\n",
              "                base_layers : {\n",
              "                    &quot;openstreetmap&quot; : tile_layer_7cb81b4c43a2a8a3d1652b16ee114399,\n",
              "                },\n",
              "                overlays :  {\n",
              "                    &quot;Sentinel-1 VV Dynamic&quot; : tile_layer_87e82c81483a63cc33630a0658cb45f6,\n",
              "                },\n",
              "            };\n",
              "            let layer_control_183c6594ffb8b4fa59977da03f80febd = L.control.layers(\n",
              "                layer_control_183c6594ffb8b4fa59977da03f80febd_layers.base_layers,\n",
              "                layer_control_183c6594ffb8b4fa59977da03f80febd_layers.overlays,\n",
              "                {\n",
              "  &quot;position&quot;: &quot;topright&quot;,\n",
              "  &quot;collapsed&quot;: true,\n",
              "  &quot;autoZIndex&quot;: true,\n",
              "}\n",
              "            ).addTo(map_23783d8bc550685b7819e73ed084272a);\n",
              "\n",
              "        \n",
              "&lt;/script&gt;\n",
              "&lt;/html&gt;\" style=\"position:absolute;width:100%;height:100%;left:0;top:0;border:none !important;\" allowfullscreen webkitallowfullscreen mozallowfullscreen></iframe></div></div>"
            ]
          },
          "metadata": {},
          "execution_count": 83
        }
      ]
    },
    {
      "cell_type": "code",
      "source": [
        "# Sample the image at the training points\n",
        "training_samples = median_image.sampleRegions(\n",
        "    collection=training_points,\n",
        "    properties=['class'],\n",
        "    scale=10  # Sentinel-1 resolution\n",
        ")\n",
        "\n",
        "# Print first few training data samples\n",
        "print(training_samples.limit(5).getInfo())\n"
      ],
      "metadata": {
        "id": "5ABbfB94oAuN",
        "outputId": "e74b98f8-0d54-4667-e97b-d18b0c959a96",
        "colab": {
          "base_uri": "https://localhost:8080/"
        }
      },
      "execution_count": 84,
      "outputs": [
        {
          "output_type": "stream",
          "name": "stdout",
          "text": [
            "{'type': 'FeatureCollection', 'columns': {}, 'properties': {'band_order': ['VV']}, 'features': [{'type': 'Feature', 'geometry': None, 'id': '1_0_0', 'properties': {'VV': -19.129556277136857, 'class': 1}}, {'type': 'Feature', 'geometry': None, 'id': '1_1_0', 'properties': {'VV': -20.683728979147915, 'class': 1}}, {'type': 'Feature', 'geometry': None, 'id': '1_2_0', 'properties': {'VV': -19.0187118318232, 'class': 1}}, {'type': 'Feature', 'geometry': None, 'id': '2_0_0', 'properties': {'VV': -18.99039911757579, 'class': 0}}, {'type': 'Feature', 'geometry': None, 'id': '2_1_0', 'properties': {'VV': -17.503918846329277, 'class': 0}}]}\n"
          ]
        }
      ]
    },
    {
      "cell_type": "code",
      "source": [
        "task = ee.batch.Export.table.toDrive(\n",
        "    collection=training_samples,\n",
        "    description='oil_spill_training_data',\n",
        "    fileFormat='CSV'\n",
        ")\n",
        "task.start()"
      ],
      "metadata": {
        "id": "BDFED6tEoOEg"
      },
      "execution_count": 85,
      "outputs": []
    }
  ]
}